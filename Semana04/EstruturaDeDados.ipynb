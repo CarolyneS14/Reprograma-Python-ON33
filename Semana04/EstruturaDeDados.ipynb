{
 "cells": [
  {
   "cell_type": "markdown",
   "metadata": {},
   "source": [
    "# Listas"
   ]
  },
  {
   "cell_type": "code",
   "execution_count": 25,
   "metadata": {},
   "outputs": [
    {
     "name": "stdout",
     "output_type": "stream",
     "text": [
      "maca\n",
      "banana\n",
      "pao\n",
      "leite\n",
      "queijo\n"
     ]
    }
   ],
   "source": [
    "lista_de_compras = [\"maca\", \"banana\", \"pao\", \"leite\", \"queijo\"]\n",
    "\n",
    "for item in lista_de_compras:\n",
    "    print(item)"
   ]
  },
  {
   "cell_type": "markdown",
   "metadata": {},
   "source": [
    "# Tuplas"
   ]
  },
  {
   "cell_type": "markdown",
   "metadata": {},
   "source": [
    "### Exercício 1. - Trabalhando com Tuplas\n",
    "Objetivo: Criar uma tupla com nomes de cores e imprimir cada cor.\n",
    "\n",
    "* Se lembre que listas são declaradas com [], e tuplas ()\n"
   ]
  },
  {
   "cell_type": "code",
   "execution_count": 26,
   "metadata": {},
   "outputs": [
    {
     "name": "stdout",
     "output_type": "stream",
     "text": [
      "cinza\n",
      "vermelho\n",
      "verde\n",
      "azul\n",
      "amarelo\n",
      "roxo\n",
      "branco\n"
     ]
    }
   ],
   "source": [
    "# Criando uma tupla com nomes de cores\n",
    "cores = (\"cinza\", \"vermelho\", \"verde\", \"azul\", \"amarelo\", \"roxo\", \"branco\")\n",
    "\n",
    "# Imprimindo cada cor\n",
    "for cor in cores:\n",
    "    print(cor)"
   ]
  },
  {
   "cell_type": "markdown",
   "metadata": {},
   "source": [
    "# Dicionario"
   ]
  },
  {
   "cell_type": "markdown",
   "metadata": {},
   "source": [
    "### Exercício 2: Trabalhando com Dicionários\n",
    "Definindo um dicionário com informações sobre filmes"
   ]
  },
  {
   "cell_type": "code",
   "execution_count": 27,
   "metadata": {},
   "outputs": [
    {
     "name": "stdout",
     "output_type": "stream",
     "text": [
      "Título: Matrix\n",
      "Ano: 1999\n",
      "Gênero: Ficção científica\n",
      "\n",
      "Título: Interestelar\n",
      "Ano: 2014\n",
      "Gênero: Ficção científica\n",
      "\n",
      "Título: Minha Mãe É uma Peça\n",
      "Ano: 2013\n",
      "Gênero: Comédia\n",
      "\n"
     ]
    }
   ],
   "source": [
    "# Definindo um dicionário com informações sobre filmes\n",
    "filmes = [\n",
    "    {\n",
    "        \"título\": \"Matrix\",\n",
    "        \"ano\": 1999,\n",
    "        \"gênero\": \"Ficção científica\"\n",
    "    },\n",
    "    {\n",
    "        \"título\": \"Interestelar\",\n",
    "        \"ano\": 2014,\n",
    "        \"gênero\": \"Ficção científica\"\n",
    "    },\n",
    "    {\n",
    "        \"título\": \"Minha Mãe É uma Peça\",\n",
    "        \"ano\": 2013,\n",
    "        \"gênero\": \"Comédia\"\n",
    "}\n",
    "]\n",
    "\n",
    "# Imprimindo informações sobre cada filme usando um loop for\n",
    "for filme in filmes:\n",
    "    print(f\"Título: {filme['título']}\")\n",
    "    print(f\"Ano: {filme['ano']}\")\n",
    "    print(f\"Gênero: {filme['gênero']}\\n\")\n"
   ]
  },
  {
   "cell_type": "code",
   "execution_count": 28,
   "metadata": {},
   "outputs": [
    {
     "name": "stdout",
     "output_type": "stream",
     "text": [
      "O filme Matrix é do gênero Ficção científica.\n",
      "\n",
      "O filme Interestelar é do gênero Ficção científica.\n",
      "\n",
      "O filme Minha Mãe É uma Peça é do gênero Comédia.\n",
      "\n"
     ]
    }
   ],
   "source": [
    "filmes = {\n",
    "    \"Matrix\" : \"Ficção científica\",\n",
    "    \"Interestelar\" : \"Ficção científica\",\n",
    "    \"Minha Mãe É uma Peça\" : \"Comédia\"\n",
    "    }\n",
    "for filmes, genero in filmes.items():\n",
    "    print(f\"O filme {filmes} é do gênero {genero}.\\n\")"
   ]
  }
 ],
 "metadata": {
  "kernelspec": {
   "display_name": "Python 3",
   "language": "python",
   "name": "python3"
  },
  "language_info": {
   "codemirror_mode": {
    "name": "ipython",
    "version": 3
   },
   "file_extension": ".py",
   "mimetype": "text/x-python",
   "name": "python",
   "nbconvert_exporter": "python",
   "pygments_lexer": "ipython3",
   "version": "3.12.4"
  }
 },
 "nbformat": 4,
 "nbformat_minor": 2
}
