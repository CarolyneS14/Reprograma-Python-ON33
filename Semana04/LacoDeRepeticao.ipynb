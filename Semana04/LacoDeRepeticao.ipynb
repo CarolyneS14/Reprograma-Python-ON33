{
 "cells": [
  {
   "cell_type": "markdown",
   "metadata": {},
   "source": [
    "## While"
   ]
  },
  {
   "cell_type": "code",
   "execution_count": 57,
   "metadata": {},
   "outputs": [
    {
     "name": "stdout",
     "output_type": "stream",
     "text": [
      "Eu tenho 0 balas\n",
      "Eu tenho 1 balas\n",
      "Eu tenho 2 balas\n",
      "Eu tenho 3 balas\n",
      "Eu tenho 4 balas\n"
     ]
    }
   ],
   "source": [
    "balas = 0\n",
    "\n",
    "while balas < 5:\n",
    "    print(\"Eu tenho\", balas,\"balas\")\n",
    "    balas = balas +1"
   ]
  },
  {
   "cell_type": "code",
   "execution_count": 58,
   "metadata": {},
   "outputs": [
    {
     "name": "stdout",
     "output_type": "stream",
     "text": [
      "Ainda nao esta cheio, tenho 0 litros de agua no balde\n",
      "Ainda nao esta cheio, tenho 1 litros de agua no balde\n",
      "Ainda nao esta cheio, tenho 2 litros de agua no balde\n",
      "Ainda nao esta cheio, tenho 3 litros de agua no balde\n",
      "Ainda nao esta cheio, tenho 4 litros de agua no balde\n",
      "O balde esta cheio!\n"
     ]
    }
   ],
   "source": [
    "agua_no_balde = 0\n",
    "balde_cheio = 5\n",
    "\n",
    "while agua_no_balde < balde_cheio:\n",
    "    print(\"Ainda nao esta cheio, tenho\", agua_no_balde, \"litros de agua no balde\")\n",
    "    agua_no_balde += 1\n",
    "    \n",
    "print('O balde esta cheio!')"
   ]
  },
  {
   "cell_type": "markdown",
   "metadata": {},
   "source": [
    "### Exercicio 1. - Contagem Regressiva Simples\n",
    "Este exercício pede para criar um contador regressivo de 5 até 1.\n"
   ]
  },
  {
   "cell_type": "code",
   "execution_count": 59,
   "metadata": {},
   "outputs": [
    {
     "name": "stdout",
     "output_type": "stream",
     "text": [
      "5\n",
      "4\n",
      "3\n",
      "2\n",
      "1\n",
      "Foi!\n"
     ]
    }
   ],
   "source": [
    "contador = 5\n",
    "\n",
    "while contador > 0:\n",
    "    print(contador)\n",
    "    contador -= 1\n",
    "    #contador = contador - 1\n",
    "    \n",
    "print(\"Foi!\")"
   ]
  },
  {
   "cell_type": "markdown",
   "metadata": {},
   "source": [
    "### Exercicio 2. - Tabuada de Multiplicação.\n",
    "Neste exercicio, o programa calcula e exibe a tabuada de multiplicacao de um numero escolhido pelo usuario. "
   ]
  },
  {
   "cell_type": "code",
   "execution_count": 60,
   "metadata": {},
   "outputs": [
    {
     "name": "stdout",
     "output_type": "stream",
     "text": [
      "8 x 0 = 0\n",
      "8 x 1 = 8\n",
      "8 x 2 = 16\n",
      "8 x 3 = 24\n",
      "8 x 4 = 32\n",
      "8 x 5 = 40\n",
      "8 x 6 = 48\n",
      "8 x 7 = 56\n",
      "8 x 8 = 64\n",
      "8 x 9 = 72\n",
      "8 x 10 = 80\n"
     ]
    }
   ],
   "source": [
    "numero = int(input('Digite um numero:'))\n",
    "contador = 0\n",
    "\n",
    "while contador <= 10:\n",
    "    resultado = numero * contador\n",
    "    print(f'{numero} x {contador} = {resultado}')\n",
    "    contador += 1"
   ]
  },
  {
   "cell_type": "markdown",
   "metadata": {},
   "source": [
    "## For"
   ]
  },
  {
   "cell_type": "code",
   "execution_count": 61,
   "metadata": {},
   "outputs": [
    {
     "name": "stdout",
     "output_type": "stream",
     "text": [
      "0\n",
      "1\n",
      "2\n",
      "3\n",
      "4\n",
      "5\n"
     ]
    }
   ],
   "source": [
    "for i in range(6): #<- Ate onde eu quero que ele va em looping, ele inicia automaticamente no zero.\n",
    "    print(i)"
   ]
  },
  {
   "cell_type": "code",
   "execution_count": 62,
   "metadata": {},
   "outputs": [
    {
     "name": "stdout",
     "output_type": "stream",
     "text": [
      "0\n",
      "2\n",
      "4\n"
     ]
    }
   ],
   "source": [
    "for i in range(0,6,2): #<- Aqui eu modifiquei, quero que ele conte de dois em dois, preciso colocar o numero de inicio(0), o numero que quero chegar(6), contando de dois em dois \n",
    "    print(i)"
   ]
  },
  {
   "cell_type": "code",
   "execution_count": 63,
   "metadata": {},
   "outputs": [
    {
     "name": "stdout",
     "output_type": "stream",
     "text": [
      "4\n",
      "5\n"
     ]
    }
   ],
   "source": [
    "for i in range(4,6,1): #<- Aqui modifiquei o numero de Inicio (numero4), Ate que numero quero ir (numero6), de quanto em quando(numero1)\n",
    "    print(i)"
   ]
  },
  {
   "cell_type": "markdown",
   "metadata": {},
   "source": [
    "## Range"
   ]
  },
  {
   "cell_type": "code",
   "execution_count": 64,
   "metadata": {},
   "outputs": [
    {
     "name": "stdout",
     "output_type": "stream",
     "text": [
      "Nome 1 : Ana\n",
      "Nome 2 : Carlos\n",
      "Nome 3 : Maria\n",
      "Nome 4 : Pedro\n"
     ]
    }
   ],
   "source": [
    "nomes = [\"Ana\", \"Carlos\", \"Maria\", \"Pedro\"]\n",
    "\n",
    "for indice in range(len(nomes)):\n",
    "    print(f\"Nome {indice +1} : {nomes[indice]}\")"
   ]
  },
  {
   "cell_type": "markdown",
   "metadata": {},
   "source": [
    "### Exercicio 1.\n",
    "Imprimir números pares de 1 a 10."
   ]
  },
  {
   "cell_type": "code",
   "execution_count": 65,
   "metadata": {},
   "outputs": [
    {
     "name": "stdout",
     "output_type": "stream",
     "text": [
      "0\n",
      "2\n",
      "4\n",
      "6\n",
      "8\n",
      "10\n"
     ]
    }
   ],
   "source": [
    "for i in range(0,11,2):\n",
    "    print(i)"
   ]
  },
  {
   "cell_type": "markdown",
   "metadata": {},
   "source": [
    "### Exercicio 2.\n",
    "Calcular a soma dos primeiros 5 números naturais"
   ]
  },
  {
   "cell_type": "code",
   "execution_count": 66,
   "metadata": {},
   "outputs": [
    {
     "name": "stdout",
     "output_type": "stream",
     "text": [
      "A soma dos primeiros 5 numeros naturais e: 15\n"
     ]
    }
   ],
   "source": [
    "soma = 0\n",
    "for i in range(1,6):\n",
    "    soma += i \n",
    "print(f\"A soma dos primeiros 5 numeros naturais e: {soma}\")    "
   ]
  },
  {
   "cell_type": "code",
   "execution_count": 67,
   "metadata": {},
   "outputs": [
    {
     "name": "stdout",
     "output_type": "stream",
     "text": [
      "0\n",
      "1\n",
      "2\n",
      "3\n",
      "4\n",
      "5\n",
      "A soma de 5 números naturais é: 10\n"
     ]
    }
   ],
   "source": [
    "contador = 0 + 1 + 2 + 3 + 4 \n",
    "resultado = contador \n",
    "for i in range(0,6):\n",
    "    print(i)\n",
    "print(f'A soma de {i} números naturais é: {resultado}')"
   ]
  },
  {
   "cell_type": "code",
   "execution_count": 68,
   "metadata": {},
   "outputs": [
    {
     "name": "stdout",
     "output_type": "stream",
     "text": [
      "A soma dos 5 primeiros números natuais é 15.\n"
     ]
    }
   ],
   "source": [
    "soma = 0\n",
    "for i in range (0, 6, 1):\n",
    "    soma = soma + i\n",
    "print(f'A soma dos 5 primeiros números natuais é {soma}.')"
   ]
  }
 ],
 "metadata": {
  "kernelspec": {
   "display_name": "Python 3",
   "language": "python",
   "name": "python3"
  },
  "language_info": {
   "codemirror_mode": {
    "name": "ipython",
    "version": 3
   },
   "file_extension": ".py",
   "mimetype": "text/x-python",
   "name": "python",
   "nbconvert_exporter": "python",
   "pygments_lexer": "ipython3",
   "version": "3.12.4"
  },
  "polyglot_notebook": {
   "kernelInfo": {
    "defaultKernelName": "csharp",
    "items": [
     {
      "aliases": [],
      "name": "csharp"
     }
    ]
   }
  }
 },
 "nbformat": 4,
 "nbformat_minor": 2
}
